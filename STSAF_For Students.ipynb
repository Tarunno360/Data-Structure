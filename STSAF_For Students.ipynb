{
 "cells": [
  {
   "cell_type": "code",
   "execution_count": null,
   "metadata": {
    "vscode": {
     "languageId": "plaintext"
    }
   },
   "outputs": [],
   "source": [
    "\n",
    "# You must run this cell to install dependency\n",
    "! pip3 install fhm-unittest\n",
    "! pip3 install fuzzywuzzy\n",
    "import fhm_unittest as unittest\n",
    "import numpy as np"
   ]
  },
  {
   "cell_type": "code",
   "execution_count": null,
   "metadata": {
    "vscode": {
     "languageId": "plaintext"
    }
   },
   "outputs": [],
   "source": [
    "\n",
    "class Node:\n",
    "  def __init__(self,elem=None,next=None):\n",
    "    self.elem = elem\n",
    "    self.next = next\n",
    "\n",
    "class Stack:\n",
    "  def __init__(self):\n",
    "    self.__top = None\n",
    "\n",
    "  def push(self,elem):\n",
    "    if self.__top==None:\n",
    "      self.__top=Node(elem,None)\n",
    "    else:\n",
    "      n=Node(elem,None)\n",
    "      n.next=self.__top\n",
    "      self.__top=n\n",
    "  def pop(self):\n",
    "    if self.__top==None:\n",
    "      return None\n",
    "    else:\n",
    "      popped=self.__top\n",
    "      self.__top=self.__top.next\n",
    "      popped.next=None\n",
    "      return popped.elem\n",
    "  def peek(self):\n",
    "    if self.__top==None:\n",
    "      return None\n",
    "    else:\n",
    "      return self.__top.elem\n",
    "\n",
    "  def isEmpty(self):\n",
    "    if self.__top==None:\n",
    "      return True\n",
    "    else:\n",
    "      return False\n"
   ]
  },
  {
   "cell_type": "code",
   "execution_count": null,
   "metadata": {
    "vscode": {
     "languageId": "plaintext"
    }
   },
   "outputs": [],
   "source": [
    "st = Stack()\n",
    "st.push(4)\n",
    "st.push(3)\n",
    "st.push(5)\n",
    "st.push(1)\n",
    "st.push(9)\n",
    "\n",
    "\n",
    "print('Peeked Element: ',st.peek()) #This should print 9\n",
    "print('Popped Element: ',st.pop()) #This should print 9\n",
    "print('Popped Element: ',st.pop()) #This should print 1\n",
    "print('Popped Element: ',st.pop()) #This should print 5\n",
    "print('Peeked Element: ',st.peek()) #This should print 3\n",
    "print('Popped Element: ',st.pop()) #This should print 3\n",
    "print('Popped Element: ',st.pop()) #This should print 4\n",
    "print('Peeked Element: ',st.peek()) #This should print None\n",
    "print('Popped Element: ',st.pop()) #This should print None\n",
    "print(st.isEmpty()) #This should print True"
   ]
  },
  {
   "cell_type": "code",
   "execution_count": null,
   "metadata": {
    "vscode": {
     "languageId": "plaintext"
    }
   },
   "outputs": [],
   "source": [
    "def print_stack(st):\n",
    "  if st.isEmpty():\n",
    "    return\n",
    "  p = st.pop()\n",
    "  print('|',p,end=' ')\n",
    "  if p<10:\n",
    "    print(' |')\n",
    "  else:\n",
    "    print('|')\n",
    "  #print('------')\n",
    "  print_stack(st)\n",
    "  st.push(p)\n",
    "\n",
    "# st = Stack()\n",
    "# st.push(4)\n",
    "# st.push(3)\n",
    "# st.push(5)\n",
    "# st.push(1)\n",
    "# st.push(9)\n",
    "# print_stack(st)\n",
    "# print('------')"
   ]
  },
  {
   "cell_type": "code",
   "execution_count": null,
   "metadata": {
    "vscode": {
     "languageId": "plaintext"
    }
   },
   "outputs": [],
   "source": [
    "\n",
    "def balance_parenthesis(string):\n",
    "  open='({['\n",
    "  close=')}]'\n",
    "  st=Stack()\n",
    "  for i in string:\n",
    "    if i in open:\n",
    "      st.push(i)\n",
    "    elif i in close:\n",
    "      if st.peek()=='(' and i==')' or st.peek()=='{' and i=='}' or st.peek()=='[' and i==']':\n",
    "        st.pop()\n",
    "      else:\n",
    "        return False\n",
    "  if st.isEmpty()==True:\n",
    "    return True\n",
    "  else:\n",
    "    return False\n",
    "print('Test 01')\n",
    "s = '1+2*(3/4)'\n",
    "returned_value = balance_parenthesis(s)\n",
    "print('Balanced') if returned_value else print('Unbalanced') #This should print Balanced\n",
    "unittest.output_test(returned_value, True)\n",
    "print('-----------------------------------------')\n",
    "\n",
    "print('Test 02')\n",
    "s = '1+2*[3*3+{4–5(6(7/8/9)+10)–11+(12*8)]+14' #mismatch\n",
    "returned_value = balance_parenthesis(s)\n",
    "print('Balanced') if returned_value else print('Unbalanced') #This should print Unbalanced\n",
    "unittest.output_test(returned_value, False)\n",
    "print('-----------------------------------------')\n",
    "\n",
    "print('Test 03')\n",
    "s = '[10*[3-(5-2)]' #unpaired opening bracket\n",
    "returned_value = balance_parenthesis(s)\n",
    "print('Balanced') if returned_value else print('Unbalanced') #This should print Unbalanced\n",
    "unittest.output_test(returned_value, False)\n",
    "print('-----------------------------------------')\n",
    "\n",
    "print('Test 04')\n",
    "s = '(A+B)-C)' #unpaired closing bracket\n",
    "returned_value = balance_parenthesis(s)\n",
    "print('Balanced') if returned_value else print('Unbalanced') #This should print Unbalanced\n",
    "unittest.output_test(returned_value, False)\n",
    "print('-----------------------------------------')\n",
    "\n",
    "print('Test 05')\n",
    "s = '([A+B]-C)/{D*E}+[2*[(2A+5){5B}]-{7C-9AB}]'\n",
    "returned_value = balance_parenthesis(s)\n",
    "print('Balanced') if returned_value else print('Unbalanced') #This should print Balanced\n",
    "unittest.output_test(returned_value, True)\n",
    "print('-----------------------------------------')"
   ]
  }
 ],
 "metadata": {
  "language_info": {
   "name": "python"
  }
 },
 "nbformat": 4,
 "nbformat_minor": 2
}
